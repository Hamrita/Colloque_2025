{
  "nbformat": 4,
  "nbformat_minor": 0,
  "metadata": {
    "colab": {
      "provenance": [],
      "toc_visible": true,
      "authorship_tag": "ABX9TyNB5NZe8/4tM5KJUs+UaYCy",
      "include_colab_link": true
    },
    "kernelspec": {
      "name": "python3",
      "display_name": "Python 3"
    },
    "language_info": {
      "name": "python"
    }
  },
  "cells": [
    {
      "cell_type": "markdown",
      "metadata": {
        "id": "view-in-github",
        "colab_type": "text"
      },
      "source": [
        "<a href=\"https://colab.research.google.com/github/Hamrita/Colloque_2025/blob/main/LSTM_colloque.ipynb\" target=\"_parent\"><img src=\"https://colab.research.google.com/assets/colab-badge.svg\" alt=\"Open In Colab\"/></a>"
      ]
    },
    {
      "cell_type": "code",
      "source": [
        "!pip install keras-tuner"
      ],
      "metadata": {
        "colab": {
          "base_uri": "https://localhost:8080/"
        },
        "id": "_1i9MWjCkidh",
        "outputId": "245a87e0-a6b5-4271-fdfc-ece6c0dfb19c"
      },
      "execution_count": 4,
      "outputs": [
        {
          "output_type": "stream",
          "name": "stdout",
          "text": [
            "Collecting keras-tuner\n",
            "  Downloading keras_tuner-1.4.7-py3-none-any.whl.metadata (5.4 kB)\n",
            "Requirement already satisfied: keras in /usr/local/lib/python3.11/dist-packages (from keras-tuner) (3.8.0)\n",
            "Requirement already satisfied: packaging in /usr/local/lib/python3.11/dist-packages (from keras-tuner) (24.2)\n",
            "Requirement already satisfied: requests in /usr/local/lib/python3.11/dist-packages (from keras-tuner) (2.32.3)\n",
            "Collecting kt-legacy (from keras-tuner)\n",
            "  Downloading kt_legacy-1.0.5-py3-none-any.whl.metadata (221 bytes)\n",
            "Requirement already satisfied: absl-py in /usr/local/lib/python3.11/dist-packages (from keras->keras-tuner) (1.4.0)\n",
            "Requirement already satisfied: numpy in /usr/local/lib/python3.11/dist-packages (from keras->keras-tuner) (1.26.4)\n",
            "Requirement already satisfied: rich in /usr/local/lib/python3.11/dist-packages (from keras->keras-tuner) (13.9.4)\n",
            "Requirement already satisfied: namex in /usr/local/lib/python3.11/dist-packages (from keras->keras-tuner) (0.0.8)\n",
            "Requirement already satisfied: h5py in /usr/local/lib/python3.11/dist-packages (from keras->keras-tuner) (3.12.1)\n",
            "Requirement already satisfied: optree in /usr/local/lib/python3.11/dist-packages (from keras->keras-tuner) (0.14.1)\n",
            "Requirement already satisfied: ml-dtypes in /usr/local/lib/python3.11/dist-packages (from keras->keras-tuner) (0.4.1)\n",
            "Requirement already satisfied: charset-normalizer<4,>=2 in /usr/local/lib/python3.11/dist-packages (from requests->keras-tuner) (3.4.1)\n",
            "Requirement already satisfied: idna<4,>=2.5 in /usr/local/lib/python3.11/dist-packages (from requests->keras-tuner) (3.10)\n",
            "Requirement already satisfied: urllib3<3,>=1.21.1 in /usr/local/lib/python3.11/dist-packages (from requests->keras-tuner) (2.3.0)\n",
            "Requirement already satisfied: certifi>=2017.4.17 in /usr/local/lib/python3.11/dist-packages (from requests->keras-tuner) (2025.1.31)\n",
            "Requirement already satisfied: typing-extensions>=4.5.0 in /usr/local/lib/python3.11/dist-packages (from optree->keras->keras-tuner) (4.12.2)\n",
            "Requirement already satisfied: markdown-it-py>=2.2.0 in /usr/local/lib/python3.11/dist-packages (from rich->keras->keras-tuner) (3.0.0)\n",
            "Requirement already satisfied: pygments<3.0.0,>=2.13.0 in /usr/local/lib/python3.11/dist-packages (from rich->keras->keras-tuner) (2.18.0)\n",
            "Requirement already satisfied: mdurl~=0.1 in /usr/local/lib/python3.11/dist-packages (from markdown-it-py>=2.2.0->rich->keras->keras-tuner) (0.1.2)\n",
            "Downloading keras_tuner-1.4.7-py3-none-any.whl (129 kB)\n",
            "\u001b[2K   \u001b[90m━━━━━━━━━━━━━━━━━━━━━━━━━━━━━━━━━━━━━━━━\u001b[0m \u001b[32m129.1/129.1 kB\u001b[0m \u001b[31m5.4 MB/s\u001b[0m eta \u001b[36m0:00:00\u001b[0m\n",
            "\u001b[?25hDownloading kt_legacy-1.0.5-py3-none-any.whl (9.6 kB)\n",
            "Installing collected packages: kt-legacy, keras-tuner\n",
            "Successfully installed keras-tuner-1.4.7 kt-legacy-1.0.5\n"
          ]
        }
      ]
    },
    {
      "cell_type": "code",
      "execution_count": 5,
      "metadata": {
        "id": "n3IAWUqJkYEn"
      },
      "outputs": [],
      "source": [
        "import numpy as np\n",
        "import matplotlib.pyplot as plt\n",
        "import keras_tuner as kt\n",
        "from tensorflow.keras.models import Sequential\n",
        "from tensorflow.keras.layers import LSTM, Dense, Dropout\n",
        "from tensorflow.keras.optimizers import Adam\n",
        "from tensorflow.keras.callbacks import EarlyStopping\n",
        "from sklearn.model_selection import train_test_split\n"
      ]
    },
    {
      "cell_type": "code",
      "source": [
        "import pandas as pd"
      ],
      "metadata": {
        "id": "LpGq5jl4rOQx"
      },
      "execution_count": 6,
      "outputs": []
    },
    {
      "cell_type": "code",
      "source": [
        "# import data\n",
        "url=\"https://raw.githubusercontent.com/Hamrita/Colloque_2025/refs/heads/main/BTC.csv\"\n",
        "df=pd.read_csv(url)\n",
        "BTC=df.iloc[:,1].values.astype('float32')\n",
        "BTC=BTC.reshape(BTC.shape[0],1)"
      ],
      "metadata": {
        "id": "pgXmu7kLrBoJ"
      },
      "execution_count": 7,
      "outputs": []
    },
    {
      "cell_type": "code",
      "source": [
        "# Split into train and test sets\n",
        "train_size = int(len(BTC) * 0.9)\n",
        "test_size = len(BTC) - train_size\n",
        "train, test = BTC[0:train_size], BTC[train_size:len(BTC)]"
      ],
      "metadata": {
        "id": "em7iZSvblDQX"
      },
      "execution_count": 8,
      "outputs": []
    },
    {
      "cell_type": "code",
      "source": [
        "# Scale the data\n",
        "from sklearn.preprocessing import MinMaxScaler\n",
        "scaler = MinMaxScaler(feature_range=(0, 1))\n",
        "train_scaled = scaler.fit_transform(train)\n",
        "test_scaled=scaler.transform(test)"
      ],
      "metadata": {
        "id": "pb-tSe2-7zDn"
      },
      "execution_count": 9,
      "outputs": []
    },
    {
      "cell_type": "code",
      "source": [
        "def create_dataset(dataset, look_back=1):\n",
        "    dataX, dataY = [], []\n",
        "    for i in range(len(dataset)-look_back-1):\n",
        "        a = dataset[i:(i+look_back), :]  #get look_back sequences\n",
        "        dataX.append(a)\n",
        "        dataY.append(dataset[i + look_back, 0]) #get the target after look_back sequences\n",
        "    return np.array(dataX), np.array(dataY)"
      ],
      "metadata": {
        "id": "dezIsDi400ip"
      },
      "execution_count": 10,
      "outputs": []
    },
    {
      "cell_type": "code",
      "source": [
        "look_back = 10  # Sequence length (tunable)\n",
        "trainX, trainY = create_dataset(train_scaled, look_back)\n",
        "testX, testY = create_dataset(test_scaled, look_back)"
      ],
      "metadata": {
        "id": "v26D1PJiyIbF"
      },
      "execution_count": 11,
      "outputs": []
    },
    {
      "cell_type": "code",
      "source": [
        "print(trainX.shape)\n",
        "print(trainY.shape)"
      ],
      "metadata": {
        "colab": {
          "base_uri": "https://localhost:8080/"
        },
        "id": "sKsICz02dufE",
        "outputId": "551cabe1-e408-4601-a899-64a78b84cd0b"
      },
      "execution_count": 12,
      "outputs": [
        {
          "output_type": "stream",
          "name": "stdout",
          "text": [
            "(2989, 10, 1)\n",
            "(2989,)\n"
          ]
        }
      ]
    },
    {
      "cell_type": "code",
      "source": [
        "def build_model1(hp):\n",
        "    model = Sequential()\n",
        "    model.add(LSTM(hp.Int('input_unit',min_value=32,max_value=128,step=32),return_sequences=True, input_shape=(trainX.shape[1],trainX.shape[2])))\n",
        "    for i in range(hp.Int('n_layers', 1, 3)):\n",
        "        model.add(LSTM(hp.Int(f'lstm_{i}_units',min_value=32,max_value=128,step=32),return_sequences=True))\n",
        "    model.add(LSTM(hp.Int('layer_2_neurons',min_value=32,max_value=512,step=32)))\n",
        "    model.add(Dropout(hp.Float('Dropout_rate',min_value=0.1,max_value=0.6,step=0.1)))\n",
        "    model.add(Dense(1, activation=hp.Choice('dense_activation',values=['relu', 'sigmoid'],default='relu')))\n",
        "    learning_rate = hp.Float('learning_rate', min_value=1e-4, max_value=1e-2, sampling='log')\n",
        "    model.compile(loss='mean_squared_error', optimizer=Adam(learning_rate=learning_rate),metrics = ['mse'])\n",
        "    return model\n",
        ""
      ],
      "metadata": {
        "id": "cBjRkK3jd_Ic"
      },
      "execution_count": 20,
      "outputs": []
    },
    {
      "cell_type": "code",
      "source": [
        "tuner= kt.RandomSearch(\n",
        "        build_model1,\n",
        "        objective='mse',\n",
        "        max_trials=10,\n",
        "        executions_per_trial=1\n",
        "        )\n",
        "\n",
        "# Early stopping callback\n",
        "early_stopper = EarlyStopping(\n",
        "    monitor='mse',\n",
        "    min_delta=0.01,\n",
        "    patience=5,\n",
        "    restore_best_weights=True\n",
        ")\n"
      ],
      "metadata": {
        "colab": {
          "base_uri": "https://localhost:8080/"
        },
        "id": "4O8lWSBhefN1",
        "outputId": "c6f84a5c-f12b-43c0-dc0b-2b3320962d3b"
      },
      "execution_count": 21,
      "outputs": [
        {
          "output_type": "stream",
          "name": "stderr",
          "text": [
            "/usr/local/lib/python3.11/dist-packages/keras/src/layers/rnn/rnn.py:200: UserWarning: Do not pass an `input_shape`/`input_dim` argument to a layer. When using Sequential models, prefer using an `Input(shape)` object as the first layer in the model instead.\n",
            "  super().__init__(**kwargs)\n"
          ]
        }
      ]
    },
    {
      "cell_type": "code",
      "source": [
        "tuner.search(\n",
        "        x=trainX,\n",
        "        y=trainY,\n",
        "        epochs=10,\n",
        "        batch_size=128,\n",
        "        validation_data=(testX,testY),\n",
        ")"
      ],
      "metadata": {
        "id": "-R1rRP6GfcTj",
        "colab": {
          "base_uri": "https://localhost:8080/"
        },
        "outputId": "d3df5a80-737e-45f1-c89a-2e42ce71ae35"
      },
      "execution_count": 22,
      "outputs": [
        {
          "output_type": "stream",
          "name": "stdout",
          "text": [
            "Trial 10 Complete [00h 01m 50s]\n",
            "mse: 0.0012970971874892712\n",
            "\n",
            "Best mse So Far: 0.0009401499992236495\n",
            "Total elapsed time: 00h 13m 02s\n"
          ]
        }
      ]
    },
    {
      "cell_type": "code",
      "source": [
        "best_model = tuner.get_best_models(num_models=1)[0]"
      ],
      "metadata": {
        "colab": {
          "base_uri": "https://localhost:8080/"
        },
        "id": "v5uZ2CuclS8N",
        "outputId": "245c8ee9-4f34-4421-f812-818880e7314e"
      },
      "execution_count": 23,
      "outputs": [
        {
          "output_type": "stream",
          "name": "stderr",
          "text": [
            "/usr/local/lib/python3.11/dist-packages/keras/src/saving/saving_lib.py:757: UserWarning: Skipping variable loading for optimizer 'adam', because it has 2 variables whereas the saved optimizer has 24 variables. \n",
            "  saveable.load_own_variables(weights_store.get(inner_path))\n"
          ]
        }
      ]
    },
    {
      "cell_type": "code",
      "source": [
        "best_hyperparameters = tuner.get_best_hyperparameters(num_trials=1)[0]\n",
        "best_hyperparameters.values"
      ],
      "metadata": {
        "colab": {
          "base_uri": "https://localhost:8080/"
        },
        "id": "KU-Y5F-kz5oa",
        "outputId": "913d70f1-056e-4661-ac31-5e4a205d383a"
      },
      "execution_count": 24,
      "outputs": [
        {
          "output_type": "execute_result",
          "data": {
            "text/plain": [
              "{'input_unit': 96,\n",
              " 'n_layers': 1,\n",
              " 'lstm_0_units': 96,\n",
              " 'layer_2_neurons': 256,\n",
              " 'Dropout_rate': 0.1,\n",
              " 'dense_activation': 'relu',\n",
              " 'learning_rate': 0.00030094925731594785,\n",
              " 'lstm_1_units': 32,\n",
              " 'lstm_2_units': 64}"
            ]
          },
          "metadata": {},
          "execution_count": 24
        }
      ]
    },
    {
      "cell_type": "code",
      "source": [
        "fit_model=best_model.fit(trainX,trainY,epochs=200,verbose=0)\n",
        "fit_tr=best_model.predict(trainX)\n",
        "fit_te=best_model.predict(testX)\n",
        "tr_fit=scaler.inverse_transform(fit_tr)\n",
        "Pred=scaler.inverse_transform(fit_te)"
      ],
      "metadata": {
        "id": "ljZouDOelCGX",
        "colab": {
          "base_uri": "https://localhost:8080/"
        },
        "outputId": "e1f82bd1-a8d7-4c6e-b01f-ff1601042575"
      },
      "execution_count": 25,
      "outputs": [
        {
          "output_type": "stream",
          "name": "stdout",
          "text": [
            "\u001b[1m94/94\u001b[0m \u001b[32m━━━━━━━━━━━━━━━━━━━━\u001b[0m\u001b[37m\u001b[0m \u001b[1m3s\u001b[0m 22ms/step\n",
            "\u001b[1m11/11\u001b[0m \u001b[32m━━━━━━━━━━━━━━━━━━━━\u001b[0m\u001b[37m\u001b[0m \u001b[1m0s\u001b[0m 20ms/step\n"
          ]
        }
      ]
    },
    {
      "cell_type": "code",
      "source": [
        "from math import sqrt\n",
        "from sklearn.metrics import mean_squared_error\n",
        "def measure_rmse(actual, predicted):\n",
        "   return sqrt(mean_squared_error(actual, predicted))\n",
        "\n",
        "def measure_mape(actual, predicted):\n",
        "   return np.mean(np.abs((actual - predicted) / actual)) * 100\n",
        "test_y=scaler.inverse_transform(testY.reshape(-1,1))\n",
        "train_y=scaler.inverse_transform(trainY.reshape(-1,1))\n",
        "print(measure_rmse(test_y, Pred))\n",
        "print(measure_rmse(train_y, fit_tr))"
      ],
      "metadata": {
        "colab": {
          "base_uri": "https://localhost:8080/"
        },
        "id": "GUQMzL4Fv_hW",
        "outputId": "884aa9db-1c74-43b7-b9ff-38d72671342d"
      },
      "execution_count": 52,
      "outputs": [
        {
          "output_type": "stream",
          "name": "stdout",
          "text": [
            "3860.9015786471427\n",
            "24810.61321289742\n"
          ]
        }
      ]
    },
    {
      "cell_type": "code",
      "source": [
        "print(Pred.shape)\n",
        "print(test[11:].shape)"
      ],
      "metadata": {
        "colab": {
          "base_uri": "https://localhost:8080/"
        },
        "id": "Ot32KoVwrVNL",
        "outputId": "f6741343-c8c6-47d5-db03-28641cbc27bd"
      },
      "execution_count": 48,
      "outputs": [
        {
          "output_type": "stream",
          "name": "stdout",
          "text": [
            "(323, 1)\n",
            "(323, 1)\n"
          ]
        }
      ]
    },
    {
      "cell_type": "code",
      "source": [
        "fig, axs = plt.subplots(2)\n",
        "axs[0].plot(train_y,label='Actual (Train)')\n",
        "axs[0].plot(tr_fit, linestyle=\"dashed\", label='Fitted (Train)')\n",
        "axs[0].legend()\n",
        "axs[1].plot(test[11:],label='Actual (Test)')\n",
        "axs[1].plot(Pred,linestyle=\"dashed\",label='Predicted (Test)')\n",
        "axs[1].legend()\n",
        "plt.show()"
      ],
      "metadata": {
        "colab": {
          "base_uri": "https://localhost:8080/",
          "height": 430
        },
        "id": "4uBXOGFNsTBg",
        "outputId": "e783a74f-6207-4fc1-c628-0951041cbd0c"
      },
      "execution_count": 58,
      "outputs": [
        {
          "output_type": "display_data",
          "data": {
            "text/plain": [
              "<Figure size 640x480 with 2 Axes>"
            ],
            "image/png": "[encoded data removed]"
          },
          "metadata": {}
        }
      ]
    },
    {
      "cell_type": "code",
      "source": [
        "best_model.evaluate(test[11:], Pred)"
      ],
      "metadata": {
        "colab": {
          "base_uri": "https://localhost:8080/"
        },
        "id": "wXIYd8pEt6bQ",
        "outputId": "8e5d0363-eb26-4628-d85c-61df3c4040fb"
      },
      "execution_count": 60,
      "outputs": [
        {
          "output_type": "stream",
          "name": "stdout",
          "text": [
            "\u001b[1m11/11\u001b[0m \u001b[32m━━━━━━━━━━━━━━━━━━━━\u001b[0m\u001b[37m\u001b[0m \u001b[1m0s\u001b[0m 6ms/step - loss: 4445843968.0000 - mse: 4445843968.0000 \n"
          ]
        },
        {
          "output_type": "execute_result",
          "data": {
            "text/plain": [
              "array([73134.94464345, 73134.94464345])"
            ]
          },
          "metadata": {},
          "execution_count": 60
        }
      ]
    },
    {
      "cell_type": "code",
      "source": [
        "measure_rmse(test[11:],Pred), measure_mape(test[11:],Pred)"
      ],
      "metadata": {
        "colab": {
          "base_uri": "https://localhost:8080/"
        },
        "id": "XlyL-WpuWypa",
        "outputId": "bea43176-9d43-49a1-d5a9-34630a505bd1"
      },
      "execution_count": 53,
      "outputs": [
        {
          "output_type": "execute_result",
          "data": {
            "text/plain": [
              "(4298.384347635749, 4.170934110879898)"
            ]
          },
          "metadata": {},
          "execution_count": 53
        }
      ]
    },
    {
      "cell_type": "code",
      "source": [
        "measure_rmse(train_y,tr_fit), measure_mape(train_y,tr_fit)"
      ],
      "metadata": {
        "colab": {
          "base_uri": "https://localhost:8080/"
        },
        "id": "CN0aLiNRZM1E",
        "outputId": "42f88ec6-e3ad-4b7c-a80f-c95f3b8f6c38"
      },
      "execution_count": 56,
      "outputs": [
        {
          "output_type": "execute_result",
          "data": {
            "text/plain": [
              "(968.2927630629075, 7.210668921470642)"
            ]
          },
          "metadata": {},
          "execution_count": 56
        }
      ]
    },
    {
      "cell_type": "code",
      "source": [
        "pred=pd.DataFrame(Pred)\n",
        "y_test=pd.DataFrame(test[11:])\n",
        "pred.to_csv('pred.csv', index=False)\n",
        "y_test.to_csv('y_test.csv', index=False)"
      ],
      "metadata": {
        "id": "vdiV_UXwpfra"
      },
      "execution_count": 61,
      "outputs": []
    }
  ]
}